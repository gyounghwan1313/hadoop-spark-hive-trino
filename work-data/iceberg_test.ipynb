{
 "cells": [
  {
   "cell_type": "code",
   "execution_count": null,
   "id": "4c19ffeb-f42c-4e2d-b0ed-de422e05aebb",
   "metadata": {},
   "outputs": [],
   "source": [
    "from pyspark.sql import SparkSession\n",
    "import pyspark.sql.functions as F\n",
    "\n",
    "spark = SparkSession.builder \\\n",
    "    .appName(\"IcebergIntegration\") \\\n",
    "    .config(\"spark.jars.packages\", \"org.apache.iceberg:iceberg-spark-runtime-3.3_2.12:1.5.2\") \\\n",
    "    .config(\"spark.sql.extensions\", \"org.apache.iceberg.spark.extensions.IcebergSparkSessionExtensions\") \\\n",
    "    .config(\"spark.sql.catalog.spark_catalog\", \"org.apache.iceberg.spark.SparkSessionCatalog\") \\\n",
    "    .config(\"spark.sql.catalog.spark_catalog.type\", \"hive\") \\\n",
    "    .config(\"spark.sql.catalog.hive_prod\", \"org.apache.iceberg.spark.SparkCatalog\") \\\n",
    "    .config(\"spark.sql.catalog.hive_prod.type\", \"hive\") \\\n",
    "    .config(\"spark.sql.catalogImplementation\", \"hive\") \\\n",
    "    .config(\"spark.sql.hive.thriftServer.singleSession\", \"false\") \\\n",
    "    .config(\"spark.hive.metastore.uris\", \"thrift://hive-metastore:9083\") \\\n",
    "    .config(\"spark.hive.metastore.schema.verification\", \"false\") \\\n",
    "    .enableHiveSupport() \\\n",
    "    .getOrCreate()"
   ]
  },
  {
   "cell_type": "code",
   "execution_count": null,
   "id": "6e7fac1e-f290-4adc-b836-dc623a595d01",
   "metadata": {},
   "outputs": [],
   "source": [
    "raw_df = spark.read.format(\"csv\").option(\"header\",\"true\").load(\"./movies.csv\")"
   ]
  },
  {
   "cell_type": "code",
   "execution_count": null,
   "id": "24f8cba5-6b02-4fb4-abba-a336c801b28f",
   "metadata": {},
   "outputs": [],
   "source": [
    "raw_df.printSchema()"
   ]
  },
  {
   "cell_type": "code",
   "execution_count": null,
   "id": "484901cb-4f51-43ba-a3de-000640e8264e",
   "metadata": {},
   "outputs": [],
   "source": [
    "raw_df.show()"
   ]
  },
  {
   "cell_type": "code",
   "execution_count": null,
   "id": "ae1bc401-7f0f-4f5f-8dc0-8e8db83f1e7b",
   "metadata": {},
   "outputs": [],
   "source": [
    "raw_df = raw_df.withColumn(\"Year\", F.col(\"Year\").cast(\"int\"))\n",
    "raw_df = raw_df.withColumn(\"Rotten Tomatoes %\", F.col(\"Rotten Tomatoes %\").cast(\"int\"))\n",
    "raw_df = raw_df.withColumn(\"Profitability\", F.col(\"Profitability\").cast(\"int\"))\n",
    "raw_df = raw_df.withColumn(\"Audience score %\", F.col(\"Audience score %\").cast(\"int\"))"
   ]
  },
  {
   "cell_type": "code",
   "execution_count": null,
   "id": "0cc38fc7-aa67-4451-8af6-cb93c75fd696",
   "metadata": {},
   "outputs": [],
   "source": [
    "raw_df = raw_df.withColumnRenamed(\"Film\",\"film\")\n",
    "raw_df = raw_df.withColumnRenamed(\"Genre\",\"genre\")\n",
    "raw_df = raw_df.withColumnRenamed(\"Lead Studio\",\"lead_studio\")\n",
    "raw_df = raw_df.withColumnRenamed(\"Audience score %\",\"audience_score\")\n",
    "raw_df = raw_df.withColumnRenamed(\"Rotten Tomatoes %\",\"rotten_tomatoes\")\n",
    "raw_df = raw_df.withColumnRenamed(\"Worldwide Gross\",\"worldwide_gross\")\n",
    "raw_df = raw_df.withColumnRenamed(\"Year\",\"year\")\n",
    "raw_df = raw_df.withColumnRenamed(\"Profitability\",\"profitability\")"
   ]
  },
  {
   "cell_type": "code",
   "execution_count": null,
   "id": "9e8b6892-b21a-45dd-9ede-6b389c0cd353",
   "metadata": {},
   "outputs": [],
   "source": [
    "raw_df.printSchema()"
   ]
  },
  {
   "cell_type": "code",
   "execution_count": null,
   "id": "2cae51bb-6d1d-4ecf-bd53-01d487f4aee6",
   "metadata": {},
   "outputs": [],
   "source": [
    "spark.sql(\"CREATE SCHEMA iceberg_db LOCATION 'hdfs://namenode:8020/user/hive/warehouse/iceberg';\")"
   ]
  },
  {
   "cell_type": "code",
   "execution_count": null,
   "id": "144641f1-c34c-414f-9299-2a97a6771369",
   "metadata": {},
   "outputs": [],
   "source": [
    "spark.sql(\"SHOW SCHEMAS\").show()"
   ]
  },
  {
   "cell_type": "code",
   "execution_count": null,
   "id": "307b632a-ecad-49b1-b96f-e9f0eba544dc",
   "metadata": {},
   "outputs": [],
   "source": [
    "spark.sql(\"\"\"\n",
    "CREATE TABLE iceberg_db.movie(\n",
    "        film string,\n",
    "        genre string,\n",
    "        lead_studio string,\n",
    "        audience_score int,\n",
    "        profitability int,\n",
    "        rotten_tomatoes int,\n",
    "        worldwide_gross string,\n",
    "        year int\n",
    "        )\n",
    "USING iceberg \n",
    "PARTITIONED BY (year)\n",
    "LOCATION 'hdfs://namenode:8020/user/hive/warehouse/iceberg/movie';\n",
    "\"\"\")"
   ]
  },
  {
   "cell_type": "code",
   "execution_count": null,
   "id": "e567932b-54a2-438c-9907-4a9ec4ac4508",
   "metadata": {},
   "outputs": [],
   "source": [
    "spark.sql(\"USE iceberg_db\")\n",
    "spark.sql(\"SHOW TABLES\").show()"
   ]
  },
  {
   "cell_type": "code",
   "execution_count": null,
   "id": "f5fbbaae-9839-4269-be8e-95dca285e9ad",
   "metadata": {},
   "outputs": [],
   "source": [
    "raw_df.writeTo(\"iceberg_db.movie\").append()"
   ]
  }
 ],
 "metadata": {
  "kernelspec": {
   "display_name": "Python 3 (ipykernel)",
   "language": "python",
   "name": "python3"
  },
  "language_info": {
   "codemirror_mode": {
    "name": "ipython",
    "version": 3
   },
   "file_extension": ".py",
   "mimetype": "text/x-python",
   "name": "python",
   "nbconvert_exporter": "python",
   "pygments_lexer": "ipython3",
   "version": "3.10.6"
  }
 },
 "nbformat": 4,
 "nbformat_minor": 5
}
